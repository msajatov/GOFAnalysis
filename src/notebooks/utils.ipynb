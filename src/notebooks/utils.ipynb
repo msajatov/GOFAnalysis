{
 "cells": [
  {
   "cell_type": "code",
   "execution_count": 6,
   "metadata": {},
   "outputs": [],
   "source": [
    "import json\n",
    "import pandas as pd\n",
    "import numpy as np\n",
    "\n",
    "import ipywidgets as widgets\n",
    "from IPython import display\n",
    "\n",
    "def getDataFrame(ignorevars):\n",
    "    path = \"output/pvalues.json\"\n",
    "    pvalues = load(path)\n",
    "    \n",
    "    # pvalues[dc_type][gof_mode][conf][var][test][channel]\n",
    "    \n",
    "    dc_types = [\"emb_dc\"]\n",
    "    #gof_modes = [\"results_w_emb\", \"results_wo_emb\"]\n",
    "    gof_modes = [\"results_w_emb\"]\n",
    "    confs = []\n",
    "    variables = []\n",
    "    tests = [\"saturated\", \"KS\", \"AD\"]\n",
    "    channels = [\"et\", \"mt\", \"tt\"]\n",
    "           \n",
    "        \n",
    "    temp = next(pvalues.itervalues())\n",
    "    temp = next(temp.itervalues())\n",
    "    \n",
    "    for key, value in temp.items():\n",
    "        confs.append(key)\n",
    "        \n",
    "    temp = next(temp.itervalues())\n",
    "    for key, value in temp.items():\n",
    "        variables.append(key)\n",
    "    \n",
    "    for igv in ignorevars:\n",
    "        variables.remove(igv)\n",
    "        \n",
    "    print variables \n",
    "\n",
    "    df = pd.DataFrame(columns=[\"dc_type\", \"gof_mode\", \"conf\", \"var\", \"test\", \"channel\", \"pvalue\"])\n",
    "        \n",
    "    # this is much faster than adding to the df row by row\n",
    "    rows_list = []\n",
    "    for dc_type_key, dc_type_val in pvalues.items():\n",
    "        for gof_mode_key, gof_mode_val in dc_type_val.items():            \n",
    "            for confkey, confval in gof_mode_val.items():\n",
    "                for varkey, varval in confval.items():\n",
    "                    for testkey, testval in varval.items():\n",
    "                        for chkey, chval in testval.items():\n",
    "                            new_row = {'dc_type':dc_type_key, 'gof_mode':gof_mode_key, 'conf':confkey, 'var':varkey, 'test':testkey, 'channel':chkey, 'pvalue':chval}\n",
    "                            rows_list.append(new_row)\n",
    "        #                     df = df.append(new_row, ignore_index=True)\n",
    "                    \n",
    "            \n",
    "    df = pd.DataFrame(rows_list, columns=[\"dc_type\", \"gof_mode\", \"conf\", \"var\", \"test\", \"channel\", \"pvalue\"]) \n",
    "    \n",
    "    return df"
   ]
  }
 ],
 "metadata": {
  "kernelspec": {
   "display_name": "Python 2",
   "language": "python",
   "name": "python2"
  },
  "language_info": {
   "codemirror_mode": {
    "name": "ipython",
    "version": 2
   },
   "file_extension": ".py",
   "mimetype": "text/x-python",
   "name": "python",
   "nbconvert_exporter": "python",
   "pygments_lexer": "ipython2",
   "version": "2.7.15+"
  }
 },
 "nbformat": 4,
 "nbformat_minor": 2
}
